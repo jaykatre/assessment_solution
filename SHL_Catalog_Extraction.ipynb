{
  "nbformat": 4,
  "nbformat_minor": 0,
  "metadata": {
    "colab": {
      "provenance": []
    },
    "kernelspec": {
      "name": "python3",
      "display_name": "Python 3"
    },
    "language_info": {
      "name": "python"
    }
  },
  "cells": [
    {
      "cell_type": "code",
      "execution_count": 10,
      "metadata": {
        "colab": {
          "base_uri": "https://localhost:8080/"
        },
        "id": "YW1BpM1c0ct5",
        "outputId": "7bb352e2-27cc-4f12-abd6-b041c23ec005"
      },
      "outputs": [
        {
          "output_type": "stream",
          "name": "stdout",
          "text": [
            "Hit:1 https://cloud.r-project.org/bin/linux/ubuntu jammy-cran40/ InRelease\n",
            "Hit:2 https://developer.download.nvidia.com/compute/cuda/repos/ubuntu2204/x86_64  InRelease\n",
            "Hit:3 https://r2u.stat.illinois.edu/ubuntu jammy InRelease\n",
            "Hit:4 http://security.ubuntu.com/ubuntu jammy-security InRelease\n",
            "Hit:5 http://archive.ubuntu.com/ubuntu jammy InRelease\n",
            "Hit:6 http://archive.ubuntu.com/ubuntu jammy-updates InRelease\n",
            "Hit:7 http://archive.ubuntu.com/ubuntu jammy-backports InRelease\n",
            "Hit:8 https://ppa.launchpadcontent.net/deadsnakes/ppa/ubuntu jammy InRelease\n",
            "Hit:9 https://ppa.launchpadcontent.net/graphics-drivers/ppa/ubuntu jammy InRelease\n",
            "Hit:10 https://ppa.launchpadcontent.net/ubuntugis/ppa/ubuntu jammy InRelease\n",
            "Reading package lists... Done\n",
            "W: Skipping acquire of configured file 'main/source/Sources' as repository 'https://r2u.stat.illinois.edu/ubuntu jammy InRelease' does not seem to provide it (sources.list entry misspelt?)\n",
            "Reading package lists... Done\n",
            "Building dependency tree... Done\n",
            "Reading state information... Done\n",
            "chromium-chromedriver is already the newest version (1:85.0.4183.83-0ubuntu2.22.04.1).\n",
            "0 upgraded, 0 newly installed, 0 to remove and 41 not upgraded.\n",
            "Requirement already satisfied: selenium in /usr/local/lib/python3.11/dist-packages (4.31.0)\n",
            "Requirement already satisfied: urllib3<3,>=1.26 in /usr/local/lib/python3.11/dist-packages (from urllib3[socks]<3,>=1.26->selenium) (2.3.0)\n",
            "Requirement already satisfied: trio~=0.17 in /usr/local/lib/python3.11/dist-packages (from selenium) (0.29.0)\n",
            "Requirement already satisfied: trio-websocket~=0.9 in /usr/local/lib/python3.11/dist-packages (from selenium) (0.12.2)\n",
            "Requirement already satisfied: certifi>=2021.10.8 in /usr/local/lib/python3.11/dist-packages (from selenium) (2025.1.31)\n",
            "Requirement already satisfied: typing_extensions~=4.9 in /usr/local/lib/python3.11/dist-packages (from selenium) (4.13.0)\n",
            "Requirement already satisfied: websocket-client~=1.8 in /usr/local/lib/python3.11/dist-packages (from selenium) (1.8.0)\n",
            "Requirement already satisfied: attrs>=23.2.0 in /usr/local/lib/python3.11/dist-packages (from trio~=0.17->selenium) (25.3.0)\n",
            "Requirement already satisfied: sortedcontainers in /usr/local/lib/python3.11/dist-packages (from trio~=0.17->selenium) (2.4.0)\n",
            "Requirement already satisfied: idna in /usr/local/lib/python3.11/dist-packages (from trio~=0.17->selenium) (3.10)\n",
            "Requirement already satisfied: outcome in /usr/local/lib/python3.11/dist-packages (from trio~=0.17->selenium) (1.3.0.post0)\n",
            "Requirement already satisfied: sniffio>=1.3.0 in /usr/local/lib/python3.11/dist-packages (from trio~=0.17->selenium) (1.3.1)\n",
            "Requirement already satisfied: wsproto>=0.14 in /usr/local/lib/python3.11/dist-packages (from trio-websocket~=0.9->selenium) (1.2.0)\n",
            "Requirement already satisfied: pysocks!=1.5.7,<2.0,>=1.5.6 in /usr/local/lib/python3.11/dist-packages (from urllib3[socks]<3,>=1.26->selenium) (1.7.1)\n",
            "Requirement already satisfied: h11<1,>=0.9.0 in /usr/local/lib/python3.11/dist-packages (from wsproto>=0.14->trio-websocket~=0.9->selenium) (0.14.0)\n"
          ]
        }
      ],
      "source": [
        "# Install dependencies in Colab\n",
        "!apt-get update\n",
        "!apt install -y chromium-chromedriver\n",
        "!pip install selenium\n",
        "\n",
        "from selenium import webdriver\n",
        "from selenium.webdriver.chrome.options import Options\n",
        "from selenium.webdriver.common.by import By\n",
        "from selenium.webdriver.support.ui import WebDriverWait  # Added this import\n",
        "from selenium.webdriver.support import expected_conditions as EC  # Added this import\n",
        "import pandas as pd"
      ]
    },
    {
      "cell_type": "code",
      "source": [
        "# Setup headless Chrome\n",
        "options = Options()\n",
        "options.add_argument('--headless')\n",
        "options.add_argument('--no-sandbox')\n",
        "options.add_argument('--disable-dev-shm-usage')\n",
        "driver = webdriver.Chrome(options=options)\n",
        "\n",
        "# Base URL\n",
        "base_url = \"https://www.shl.com/solutions/products/product-catalog/\""
      ],
      "metadata": {
        "id": "lbVa_dFH0_Ya"
      },
      "execution_count": 11,
      "outputs": []
    },
    {
      "cell_type": "code",
      "source": [
        "# Function to parse a table from a page\n",
        "def parse_table(driver, table_name):\n",
        "    # Wait for data rows to load (10-second timeout)\n",
        "    wait = WebDriverWait(driver, 10)\n",
        "    if table_name == \"Pre-packaged Job Solutions\":\n",
        "        row_selector = \"tr[data-course-id]\"\n",
        "    else:  # Individual Test Solutions\n",
        "        row_selector = \"tr[data-entity-id]\"\n",
        "\n",
        "    # Wait for at least one data row\n",
        "    wait.until(EC.presence_of_element_located((By.CSS_SELECTOR, row_selector)))\n",
        "    rows = driver.find_elements(By.CSS_SELECTOR, row_selector)\n",
        "\n",
        "    # Debug: Print number of rows found\n",
        "    print(f\"Found {len(rows)} rows on this page\")\n",
        "\n",
        "    data = []\n",
        "    for row in rows:\n",
        "        row_id = row.get_attribute(\"data-course-id\") or row.get_attribute(\"data-entity-id\")\n",
        "        try:\n",
        "            name_elem = row.find_element(By.CSS_SELECTOR, \"td.custom__table-heading__title a\")\n",
        "            name = name_elem.text.strip()\n",
        "            url = name_elem.get_attribute(\"href\")\n",
        "        except Exception as e:\n",
        "            print(f\"Error finding name/URL: {e}\")\n",
        "            continue\n",
        "\n",
        "        remote = \"Yes\" if row.find_elements(By.CSS_SELECTOR, \"td:nth-child(2) .catalogue__circle.-yes\") else \"No\"\n",
        "        adaptive = \"Yes\" if row.find_elements(By.CSS_SELECTOR, \"td:nth-child(3) .catalogue__circle.-yes\") else \"No\"\n",
        "        test_types = [t.text for t in row.find_elements(By.CSS_SELECTOR, \".product-catalogue__key\")]\n",
        "        test_type = \" \".join(test_types)\n",
        "\n",
        "        data.append({\n",
        "            \"id\": row_id,\n",
        "            \"Table\": table_name,\n",
        "            \"Pre-packaged Job Solutions\": name,\n",
        "            \"URL\": url,\n",
        "            \"Remote Testing (y/n)\": remote,\n",
        "            \"Adaptive/IRT (y/n)\": adaptive,\n",
        "            \"Test Type\": test_type\n",
        "        })\n",
        "    return data"
      ],
      "metadata": {
        "id": "KeCRzqQe1NDM"
      },
      "execution_count": 14,
      "outputs": []
    },
    {
      "cell_type": "code",
      "source": [
        "# Extract Table 1 (Pre-packaged Job Solutions) - 12 pages, 144 rows\n",
        "table1_data = []\n",
        "for page in range(0, 144, 12):\n",
        "    url = f\"{base_url}?start={page}&type=2&type=2\"\n",
        "    driver.get(url)\n",
        "    print(f\"Loading Table 1, page {page // 12 + 1}/12: {url}\")\n",
        "    try:\n",
        "        table1_data.extend(parse_table(driver, \"Pre-packaged Job Solutions\"))\n",
        "        print(f\"Scraped Table 1, page {page // 12 + 1}/12 ({len(table1_data)} rows so far)\")\n",
        "    except Exception as e:\n",
        "        print(f\"Error on Table 1, page {page // 12 + 1}: {e}\")"
      ],
      "metadata": {
        "colab": {
          "base_uri": "https://localhost:8080/"
        },
        "id": "nwa4Kon41dC9",
        "outputId": "7def5508-280a-4816-e83f-0500bd92c1ff"
      },
      "execution_count": 15,
      "outputs": [
        {
          "output_type": "stream",
          "name": "stdout",
          "text": [
            "Loading Table 1, page 1/12: https://www.shl.com/solutions/products/product-catalog/?start=0&type=2&type=2\n",
            "Found 12 rows on this page\n",
            "Scraped Table 1, page 1/12 (12 rows so far)\n",
            "Loading Table 1, page 2/12: https://www.shl.com/solutions/products/product-catalog/?start=12&type=2&type=2\n",
            "Found 12 rows on this page\n",
            "Scraped Table 1, page 2/12 (24 rows so far)\n",
            "Loading Table 1, page 3/12: https://www.shl.com/solutions/products/product-catalog/?start=24&type=2&type=2\n",
            "Found 12 rows on this page\n",
            "Scraped Table 1, page 3/12 (36 rows so far)\n",
            "Loading Table 1, page 4/12: https://www.shl.com/solutions/products/product-catalog/?start=36&type=2&type=2\n",
            "Found 12 rows on this page\n",
            "Scraped Table 1, page 4/12 (48 rows so far)\n",
            "Loading Table 1, page 5/12: https://www.shl.com/solutions/products/product-catalog/?start=48&type=2&type=2\n",
            "Found 12 rows on this page\n",
            "Scraped Table 1, page 5/12 (60 rows so far)\n",
            "Loading Table 1, page 6/12: https://www.shl.com/solutions/products/product-catalog/?start=60&type=2&type=2\n",
            "Found 12 rows on this page\n",
            "Scraped Table 1, page 6/12 (72 rows so far)\n",
            "Loading Table 1, page 7/12: https://www.shl.com/solutions/products/product-catalog/?start=72&type=2&type=2\n",
            "Found 12 rows on this page\n",
            "Scraped Table 1, page 7/12 (84 rows so far)\n",
            "Loading Table 1, page 8/12: https://www.shl.com/solutions/products/product-catalog/?start=84&type=2&type=2\n",
            "Found 12 rows on this page\n",
            "Scraped Table 1, page 8/12 (96 rows so far)\n",
            "Loading Table 1, page 9/12: https://www.shl.com/solutions/products/product-catalog/?start=96&type=2&type=2\n",
            "Found 12 rows on this page\n",
            "Scraped Table 1, page 9/12 (108 rows so far)\n",
            "Loading Table 1, page 10/12: https://www.shl.com/solutions/products/product-catalog/?start=108&type=2&type=2\n",
            "Found 12 rows on this page\n",
            "Scraped Table 1, page 10/12 (120 rows so far)\n",
            "Loading Table 1, page 11/12: https://www.shl.com/solutions/products/product-catalog/?start=120&type=2&type=2\n",
            "Found 12 rows on this page\n",
            "Scraped Table 1, page 11/12 (132 rows so far)\n",
            "Loading Table 1, page 12/12: https://www.shl.com/solutions/products/product-catalog/?start=132&type=2&type=2\n",
            "Found 9 rows on this page\n",
            "Scraped Table 1, page 12/12 (141 rows so far)\n"
          ]
        }
      ]
    },
    {
      "cell_type": "code",
      "source": [
        "# driver.get(\"https://www.shl.com/solutions/products/product-catalog/?start=0&type=2\")\n",
        "# print(driver.page_source[:1000])  # First 1000 characters of HTML"
      ],
      "metadata": {
        "colab": {
          "base_uri": "https://localhost:8080/"
        },
        "id": "9Gzso74j1mN3",
        "outputId": "b582a609-c760-4a23-b7e4-ff0e50bc56ff"
      },
      "execution_count": 5,
      "outputs": [
        {
          "output_type": "stream",
          "name": "stdout",
          "text": [
            "<html lang=\"en-US\" data-locale=\"en_US\" data-language=\"en\" data-localeroot=\"/\" class=\"ss-productcataloguelistpage -colour-theme-blue || js-html-tag js\" data-fl-id=\"1\" data-geo=\"GB\"><head>\n",
            "        \n",
            "<!-- Google Tag Manager -->\n",
            "<script async=\"\" src=\"https://www.clarity.ms/s/0.8.1/clarity.js\"></script><script type=\"text/javascript\" charset=\"UTF-8\" async=\"\" src=\"https://consent.cookiebot.com/34466d9c-a30f-4341-82cc-bfb2ce498814/cc.js?renew=false&amp;referer=www.shl.com&amp;dnt=false&amp;init=false\"></script><script async=\"\" src=\"https://www.clarity.ms/tag/qgxubwj2gc?ref=gtm2\"></script><script type=\"text/javascript\" async=\"\" src=\"https://www.googletagmanager.com/gtag/destination?id=AW-1009032174&amp;l=dataLayer&amp;cx=c&amp;gtm=45He5421v849425486za200&amp;tag_exp=102788824~102803279~102813109~102887799~102926062~102975949~103016951~103021830~103027016\"></script><script type=\"text/javascript\" async=\"\" src=\"https://consent.cookiebot.com/uc.js?cbid=34466d9c-a30f-4341-82cc-bfb2ce498814&amp;consen\n"
          ]
        }
      ]
    },
    {
      "cell_type": "code",
      "source": [
        "# Extract Table 2 (Individual Test Solutions) - 32 pages, 384 rows\n",
        "table2_data = []\n",
        "for page in range(0, 384, 12):\n",
        "    url = f\"{base_url}?start={page}&type=1\"\n",
        "    driver.get(url)\n",
        "    print(f\"Loading Table 2, page {page // 12 + 1}/32: {url}\")\n",
        "    try:\n",
        "        table2_data.extend(parse_table(driver, \"Individual Test Solutions\"))\n",
        "        print(f\"Scraped Table 2, page {page // 12 + 1}/32 ({len(table2_data)} rows so far)\")\n",
        "    except Exception as e:\n",
        "        print(f\"Error on Table 2, page {page // 12 + 1}: {e}\")"
      ],
      "metadata": {
        "colab": {
          "base_uri": "https://localhost:8080/"
        },
        "id": "xVusQaIk-PeO",
        "outputId": "eb222570-f80b-488d-a8e1-d042d4da99d3"
      },
      "execution_count": 16,
      "outputs": [
        {
          "output_type": "stream",
          "name": "stdout",
          "text": [
            "Loading Table 2, page 1/32: https://www.shl.com/solutions/products/product-catalog/?start=0&type=1\n",
            "Found 12 rows on this page\n",
            "Scraped Table 2, page 1/32 (12 rows so far)\n",
            "Loading Table 2, page 2/32: https://www.shl.com/solutions/products/product-catalog/?start=12&type=1\n",
            "Found 12 rows on this page\n",
            "Scraped Table 2, page 2/32 (24 rows so far)\n",
            "Loading Table 2, page 3/32: https://www.shl.com/solutions/products/product-catalog/?start=24&type=1\n",
            "Found 12 rows on this page\n",
            "Scraped Table 2, page 3/32 (36 rows so far)\n",
            "Loading Table 2, page 4/32: https://www.shl.com/solutions/products/product-catalog/?start=36&type=1\n",
            "Found 12 rows on this page\n",
            "Scraped Table 2, page 4/32 (48 rows so far)\n",
            "Loading Table 2, page 5/32: https://www.shl.com/solutions/products/product-catalog/?start=48&type=1\n",
            "Found 12 rows on this page\n",
            "Scraped Table 2, page 5/32 (60 rows so far)\n",
            "Loading Table 2, page 6/32: https://www.shl.com/solutions/products/product-catalog/?start=60&type=1\n",
            "Found 12 rows on this page\n",
            "Scraped Table 2, page 6/32 (72 rows so far)\n",
            "Loading Table 2, page 7/32: https://www.shl.com/solutions/products/product-catalog/?start=72&type=1\n",
            "Found 12 rows on this page\n",
            "Scraped Table 2, page 7/32 (84 rows so far)\n",
            "Loading Table 2, page 8/32: https://www.shl.com/solutions/products/product-catalog/?start=84&type=1\n",
            "Found 12 rows on this page\n",
            "Scraped Table 2, page 8/32 (96 rows so far)\n",
            "Loading Table 2, page 9/32: https://www.shl.com/solutions/products/product-catalog/?start=96&type=1\n",
            "Found 12 rows on this page\n",
            "Scraped Table 2, page 9/32 (108 rows so far)\n",
            "Loading Table 2, page 10/32: https://www.shl.com/solutions/products/product-catalog/?start=108&type=1\n",
            "Found 12 rows on this page\n",
            "Scraped Table 2, page 10/32 (120 rows so far)\n",
            "Loading Table 2, page 11/32: https://www.shl.com/solutions/products/product-catalog/?start=120&type=1\n",
            "Found 12 rows on this page\n",
            "Scraped Table 2, page 11/32 (132 rows so far)\n",
            "Loading Table 2, page 12/32: https://www.shl.com/solutions/products/product-catalog/?start=132&type=1\n",
            "Found 12 rows on this page\n",
            "Scraped Table 2, page 12/32 (144 rows so far)\n",
            "Loading Table 2, page 13/32: https://www.shl.com/solutions/products/product-catalog/?start=144&type=1\n",
            "Found 12 rows on this page\n",
            "Scraped Table 2, page 13/32 (156 rows so far)\n",
            "Loading Table 2, page 14/32: https://www.shl.com/solutions/products/product-catalog/?start=156&type=1\n",
            "Found 12 rows on this page\n",
            "Scraped Table 2, page 14/32 (168 rows so far)\n",
            "Loading Table 2, page 15/32: https://www.shl.com/solutions/products/product-catalog/?start=168&type=1\n",
            "Found 12 rows on this page\n",
            "Scraped Table 2, page 15/32 (180 rows so far)\n",
            "Loading Table 2, page 16/32: https://www.shl.com/solutions/products/product-catalog/?start=180&type=1\n",
            "Found 12 rows on this page\n",
            "Scraped Table 2, page 16/32 (192 rows so far)\n",
            "Loading Table 2, page 17/32: https://www.shl.com/solutions/products/product-catalog/?start=192&type=1\n",
            "Found 12 rows on this page\n",
            "Scraped Table 2, page 17/32 (204 rows so far)\n",
            "Loading Table 2, page 18/32: https://www.shl.com/solutions/products/product-catalog/?start=204&type=1\n",
            "Found 12 rows on this page\n",
            "Scraped Table 2, page 18/32 (216 rows so far)\n",
            "Loading Table 2, page 19/32: https://www.shl.com/solutions/products/product-catalog/?start=216&type=1\n",
            "Found 12 rows on this page\n",
            "Scraped Table 2, page 19/32 (228 rows so far)\n",
            "Loading Table 2, page 20/32: https://www.shl.com/solutions/products/product-catalog/?start=228&type=1\n",
            "Found 12 rows on this page\n",
            "Scraped Table 2, page 20/32 (240 rows so far)\n",
            "Loading Table 2, page 21/32: https://www.shl.com/solutions/products/product-catalog/?start=240&type=1\n",
            "Found 12 rows on this page\n",
            "Scraped Table 2, page 21/32 (252 rows so far)\n",
            "Loading Table 2, page 22/32: https://www.shl.com/solutions/products/product-catalog/?start=252&type=1\n",
            "Found 12 rows on this page\n",
            "Scraped Table 2, page 22/32 (264 rows so far)\n",
            "Loading Table 2, page 23/32: https://www.shl.com/solutions/products/product-catalog/?start=264&type=1\n",
            "Found 12 rows on this page\n",
            "Scraped Table 2, page 23/32 (276 rows so far)\n",
            "Loading Table 2, page 24/32: https://www.shl.com/solutions/products/product-catalog/?start=276&type=1\n",
            "Found 12 rows on this page\n",
            "Scraped Table 2, page 24/32 (288 rows so far)\n",
            "Loading Table 2, page 25/32: https://www.shl.com/solutions/products/product-catalog/?start=288&type=1\n",
            "Found 12 rows on this page\n",
            "Scraped Table 2, page 25/32 (300 rows so far)\n",
            "Loading Table 2, page 26/32: https://www.shl.com/solutions/products/product-catalog/?start=300&type=1\n",
            "Found 12 rows on this page\n",
            "Scraped Table 2, page 26/32 (312 rows so far)\n",
            "Loading Table 2, page 27/32: https://www.shl.com/solutions/products/product-catalog/?start=312&type=1\n",
            "Found 12 rows on this page\n",
            "Scraped Table 2, page 27/32 (324 rows so far)\n",
            "Loading Table 2, page 28/32: https://www.shl.com/solutions/products/product-catalog/?start=324&type=1\n",
            "Found 12 rows on this page\n",
            "Scraped Table 2, page 28/32 (336 rows so far)\n",
            "Loading Table 2, page 29/32: https://www.shl.com/solutions/products/product-catalog/?start=336&type=1\n",
            "Found 12 rows on this page\n",
            "Scraped Table 2, page 29/32 (348 rows so far)\n",
            "Loading Table 2, page 30/32: https://www.shl.com/solutions/products/product-catalog/?start=348&type=1\n",
            "Found 12 rows on this page\n",
            "Scraped Table 2, page 30/32 (360 rows so far)\n",
            "Loading Table 2, page 31/32: https://www.shl.com/solutions/products/product-catalog/?start=360&type=1\n",
            "Found 12 rows on this page\n",
            "Scraped Table 2, page 31/32 (372 rows so far)\n",
            "Loading Table 2, page 32/32: https://www.shl.com/solutions/products/product-catalog/?start=372&type=1\n",
            "Found 5 rows on this page\n",
            "Scraped Table 2, page 32/32 (377 rows so far)\n"
          ]
        }
      ]
    },
    {
      "cell_type": "code",
      "source": [
        "# Combine data\n",
        "all_data = table1_data + table2_data"
      ],
      "metadata": {
        "id": "UyHFcGj1BiRM"
      },
      "execution_count": 17,
      "outputs": []
    },
    {
      "cell_type": "code",
      "source": [
        "# Convert to DataFrame and drop 'Table' column\n",
        "df = pd.DataFrame(all_data)\n",
        "df = df[[\"id\", \"Pre-packaged Job Solutions\", \"URL\", \"Remote Testing (y/n)\", \"Adaptive/IRT (y/n)\", \"Test Type\"]]\n",
        "\n",
        "# Save to CSV\n",
        "df.to_csv(\"shl_catalog.csv\", index=False)"
      ],
      "metadata": {
        "id": "rOjw0YtcCJdu"
      },
      "execution_count": 18,
      "outputs": []
    },
    {
      "cell_type": "code",
      "source": [],
      "metadata": {
        "id": "VWusckGxCMnm"
      },
      "execution_count": null,
      "outputs": []
    }
  ]
}